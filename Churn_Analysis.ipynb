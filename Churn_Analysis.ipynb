{
 "cells": [
  {
   "cell_type": "markdown",
   "id": "4dc1423e",
   "metadata": {},
   "source": [
    "# Customer Churn Analysis by Tenure and Contract Type\n",
    "\n",
    "This notebook reads the Telco Customer Churn dataset, processes the data, computes churn rates by tenure and contract type, and visualizes the results with a heatmap."
   ]
  },
  {
   "cell_type": "code",
   "execution_count": null,
   "id": "4c43a40f",
   "metadata": {},
   "outputs": [],
   "source": [
    "import pandas as pd\n",
    "\n",
    "# Load dataset\n",
    "df = pd.read_csv(\"WA_Fn-UseC_-Telco-Customer-Churn.csv\")\n",
    "df.head()"
   ]
  },
  {
   "cell_type": "code",
   "execution_count": null,
   "id": "0679a85d",
   "metadata": {},
   "outputs": [],
   "source": [
    "# Select relevant columns and check for missing values\n",
    "df_relevant = df[['tenure', 'Contract', 'Churn']].copy()\n",
    "df_relevant.isnull().sum()"
   ]
  },
  {
   "cell_type": "code",
   "execution_count": null,
   "id": "43d4f7db",
   "metadata": {},
   "outputs": [],
   "source": [
    "# Convert Churn to numeric and compute mean churn rate by tenure and contract\n",
    "df_relevant['Churn_numeric'] = df_relevant['Churn'].apply(lambda x: 1 if x == 'Yes' else 0)\n",
    "churn_rate_by_tenure_contract = (\n",
    "    df_relevant.groupby(['tenure', 'Contract'])['Churn_numeric']\n",
    "    .mean()\n",
    "    .reset_index()\n",
    ")\n",
    "churn_rate_by_tenure_contract.head()"
   ]
  },
  {
   "cell_type": "code",
   "execution_count": null,
   "id": "883ecb95",
   "metadata": {},
   "outputs": [],
   "source": [
    "import seaborn as sns\n",
    "import matplotlib.pyplot as plt\n",
    "\n",
    "# Pivot data for heatmap\n",
    "heatmap_data = churn_rate_by_tenure_contract.pivot(index='Contract', columns='tenure', values='Churn_numeric')\n",
    "\n",
    "# Plot heatmap\n",
    "plt.figure(figsize=(12, 8))\n",
    "sns.heatmap(heatmap_data, annot=False, cmap='YlGnBu')\n",
    "plt.title(\"Churn Rate by Tenure and Contract Type\")\n",
    "plt.xlabel(\"Tenure (Months)\")\n",
    "plt.ylabel(\"Contract Type\")\n",
    "plt.show()"
   ]
  }
 ],
 "metadata": {
  "language_info": {
   "name": "python"
  }
 },
 "nbformat": 4,
 "nbformat_minor": 5
}
